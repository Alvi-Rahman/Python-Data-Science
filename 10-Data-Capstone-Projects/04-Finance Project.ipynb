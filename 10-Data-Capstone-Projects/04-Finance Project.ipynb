version https://git-lfs.github.com/spec/v1
oid sha256:22b966130634b0be0b72883ddd5dd778d6dc8bd85f516bc6693a219652b917f9
size 2701677
